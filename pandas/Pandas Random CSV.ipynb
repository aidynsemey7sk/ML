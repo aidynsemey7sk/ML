{
 "cells": [
  {
   "cell_type": "code",
   "execution_count": 1,
   "id": "25c07fd1-fdd2-446c-b640-6b5584a3405d",
   "metadata": {},
   "outputs": [],
   "source": [
    "import numpy as np\n",
    "import pandas as pd\n",
    "import matplotlib.pyplot as plt"
   ]
  },
  {
   "cell_type": "code",
   "execution_count": 2,
   "id": "d92a94b8-36c5-4e8a-9d1f-92aa010e3b09",
   "metadata": {},
   "outputs": [
    {
     "data": {
      "text/html": [
       "<div>\n",
       "<style scoped>\n",
       "    .dataframe tbody tr th:only-of-type {\n",
       "        vertical-align: middle;\n",
       "    }\n",
       "\n",
       "    .dataframe tbody tr th {\n",
       "        vertical-align: top;\n",
       "    }\n",
       "\n",
       "    .dataframe thead th {\n",
       "        text-align: right;\n",
       "    }\n",
       "</style>\n",
       "<table border=\"1\" class=\"dataframe\">\n",
       "  <thead>\n",
       "    <tr style=\"text-align: right;\">\n",
       "      <th></th>\n",
       "      <th>Date</th>\n",
       "      <th>Product</th>\n",
       "      <th>Price</th>\n",
       "      <th>Quantity</th>\n",
       "    </tr>\n",
       "  </thead>\n",
       "  <tbody>\n",
       "    <tr>\n",
       "      <th>0</th>\n",
       "      <td>2050-01-01</td>\n",
       "      <td>Microphone</td>\n",
       "      <td>147.16</td>\n",
       "      <td>7</td>\n",
       "    </tr>\n",
       "    <tr>\n",
       "      <th>1</th>\n",
       "      <td>2050-01-02</td>\n",
       "      <td>Keyboard</td>\n",
       "      <td>103.09</td>\n",
       "      <td>10</td>\n",
       "    </tr>\n",
       "    <tr>\n",
       "      <th>2</th>\n",
       "      <td>2050-01-03</td>\n",
       "      <td>Tables</td>\n",
       "      <td>164.48</td>\n",
       "      <td>7</td>\n",
       "    </tr>\n",
       "    <tr>\n",
       "      <th>3</th>\n",
       "      <td>2050-01-04</td>\n",
       "      <td>Camera</td>\n",
       "      <td>103.48</td>\n",
       "      <td>1</td>\n",
       "    </tr>\n",
       "    <tr>\n",
       "      <th>4</th>\n",
       "      <td>2050-01-05</td>\n",
       "      <td>Microphone</td>\n",
       "      <td>162.92</td>\n",
       "      <td>1</td>\n",
       "    </tr>\n",
       "    <tr>\n",
       "      <th>...</th>\n",
       "      <td>...</td>\n",
       "      <td>...</td>\n",
       "      <td>...</td>\n",
       "      <td>...</td>\n",
       "    </tr>\n",
       "    <tr>\n",
       "      <th>95</th>\n",
       "      <td>2050-04-06</td>\n",
       "      <td>Phone</td>\n",
       "      <td>119.32</td>\n",
       "      <td>8</td>\n",
       "    </tr>\n",
       "    <tr>\n",
       "      <th>96</th>\n",
       "      <td>2050-04-07</td>\n",
       "      <td>Tables</td>\n",
       "      <td>69.84</td>\n",
       "      <td>7</td>\n",
       "    </tr>\n",
       "    <tr>\n",
       "      <th>97</th>\n",
       "      <td>2050-04-08</td>\n",
       "      <td>Phone</td>\n",
       "      <td>164.64</td>\n",
       "      <td>3</td>\n",
       "    </tr>\n",
       "    <tr>\n",
       "      <th>98</th>\n",
       "      <td>2050-04-09</td>\n",
       "      <td>Keyboard</td>\n",
       "      <td>81.91</td>\n",
       "      <td>11</td>\n",
       "    </tr>\n",
       "    <tr>\n",
       "      <th>99</th>\n",
       "      <td>2050-04-10</td>\n",
       "      <td>Camera</td>\n",
       "      <td>61.14</td>\n",
       "      <td>13</td>\n",
       "    </tr>\n",
       "  </tbody>\n",
       "</table>\n",
       "<p>100 rows × 4 columns</p>\n",
       "</div>"
      ],
      "text/plain": [
       "         Date     Product   Price  Quantity\n",
       "0  2050-01-01  Microphone  147.16         7\n",
       "1  2050-01-02    Keyboard  103.09        10\n",
       "2  2050-01-03      Tables  164.48         7\n",
       "3  2050-01-04      Camera  103.48         1\n",
       "4  2050-01-05  Microphone  162.92         1\n",
       "..        ...         ...     ...       ...\n",
       "95 2050-04-06       Phone  119.32         8\n",
       "96 2050-04-07      Tables   69.84         7\n",
       "97 2050-04-08       Phone  164.64         3\n",
       "98 2050-04-09    Keyboard   81.91        11\n",
       "99 2050-04-10      Camera   61.14        13\n",
       "\n",
       "[100 rows x 4 columns]"
      ]
     },
     "execution_count": 2,
     "metadata": {},
     "output_type": "execute_result"
    }
   ],
   "source": [
    "np.random.seed(1)\n",
    "n = 100\n",
    "dates = pd.date_range(start='2050-01-01', periods=n, freq='D')\n",
    "dates\n",
    "products = np.random.choice(['Tables', 'Camera', 'Phone', 'Microphone', 'Keyboard'], n)\n",
    "prices = np.round(np.random.uniform(50.0, 200.0, n), 2)\n",
    "quantities = np.random.randint(1, 15, n)\n",
    "data = {\n",
    "    'Date': dates,\n",
    "    'Product': products,\n",
    "    'Price': prices,\n",
    "    'Quantity': quantities\n",
    "}\n",
    "\n",
    "df = pd.DataFrame(data)\n",
    "df"
   ]
  },
  {
   "cell_type": "code",
   "execution_count": 3,
   "id": "43c77ec3-971a-4858-a51b-ed7d7a0cc941",
   "metadata": {},
   "outputs": [],
   "source": [
    "df.to_csv('random_sales.csv', index=False)"
   ]
  },
  {
   "cell_type": "code",
   "execution_count": 4,
   "id": "ad7c8173-41bc-46d3-a1eb-687140de0575",
   "metadata": {},
   "outputs": [
    {
     "data": {
      "text/html": [
       "<div>\n",
       "<style scoped>\n",
       "    .dataframe tbody tr th:only-of-type {\n",
       "        vertical-align: middle;\n",
       "    }\n",
       "\n",
       "    .dataframe tbody tr th {\n",
       "        vertical-align: top;\n",
       "    }\n",
       "\n",
       "    .dataframe thead th {\n",
       "        text-align: right;\n",
       "    }\n",
       "</style>\n",
       "<table border=\"1\" class=\"dataframe\">\n",
       "  <thead>\n",
       "    <tr style=\"text-align: right;\">\n",
       "      <th></th>\n",
       "      <th>Date</th>\n",
       "      <th>Product</th>\n",
       "      <th>Price</th>\n",
       "      <th>Quantity</th>\n",
       "    </tr>\n",
       "  </thead>\n",
       "  <tbody>\n",
       "    <tr>\n",
       "      <th>0</th>\n",
       "      <td>2050-01-01</td>\n",
       "      <td>Microphone</td>\n",
       "      <td>147.16</td>\n",
       "      <td>7</td>\n",
       "    </tr>\n",
       "    <tr>\n",
       "      <th>1</th>\n",
       "      <td>2050-01-02</td>\n",
       "      <td>Keyboard</td>\n",
       "      <td>103.09</td>\n",
       "      <td>10</td>\n",
       "    </tr>\n",
       "    <tr>\n",
       "      <th>2</th>\n",
       "      <td>2050-01-03</td>\n",
       "      <td>Tables</td>\n",
       "      <td>164.48</td>\n",
       "      <td>7</td>\n",
       "    </tr>\n",
       "    <tr>\n",
       "      <th>3</th>\n",
       "      <td>2050-01-04</td>\n",
       "      <td>Camera</td>\n",
       "      <td>103.48</td>\n",
       "      <td>1</td>\n",
       "    </tr>\n",
       "    <tr>\n",
       "      <th>4</th>\n",
       "      <td>2050-01-05</td>\n",
       "      <td>Microphone</td>\n",
       "      <td>162.92</td>\n",
       "      <td>1</td>\n",
       "    </tr>\n",
       "    <tr>\n",
       "      <th>...</th>\n",
       "      <td>...</td>\n",
       "      <td>...</td>\n",
       "      <td>...</td>\n",
       "      <td>...</td>\n",
       "    </tr>\n",
       "    <tr>\n",
       "      <th>95</th>\n",
       "      <td>2050-04-06</td>\n",
       "      <td>Phone</td>\n",
       "      <td>119.32</td>\n",
       "      <td>8</td>\n",
       "    </tr>\n",
       "    <tr>\n",
       "      <th>96</th>\n",
       "      <td>2050-04-07</td>\n",
       "      <td>Tables</td>\n",
       "      <td>69.84</td>\n",
       "      <td>7</td>\n",
       "    </tr>\n",
       "    <tr>\n",
       "      <th>97</th>\n",
       "      <td>2050-04-08</td>\n",
       "      <td>Phone</td>\n",
       "      <td>164.64</td>\n",
       "      <td>3</td>\n",
       "    </tr>\n",
       "    <tr>\n",
       "      <th>98</th>\n",
       "      <td>2050-04-09</td>\n",
       "      <td>Keyboard</td>\n",
       "      <td>81.91</td>\n",
       "      <td>11</td>\n",
       "    </tr>\n",
       "    <tr>\n",
       "      <th>99</th>\n",
       "      <td>2050-04-10</td>\n",
       "      <td>Camera</td>\n",
       "      <td>61.14</td>\n",
       "      <td>13</td>\n",
       "    </tr>\n",
       "  </tbody>\n",
       "</table>\n",
       "<p>100 rows × 4 columns</p>\n",
       "</div>"
      ],
      "text/plain": [
       "         Date     Product   Price  Quantity\n",
       "0  2050-01-01  Microphone  147.16         7\n",
       "1  2050-01-02    Keyboard  103.09        10\n",
       "2  2050-01-03      Tables  164.48         7\n",
       "3  2050-01-04      Camera  103.48         1\n",
       "4  2050-01-05  Microphone  162.92         1\n",
       "..        ...         ...     ...       ...\n",
       "95 2050-04-06       Phone  119.32         8\n",
       "96 2050-04-07      Tables   69.84         7\n",
       "97 2050-04-08       Phone  164.64         3\n",
       "98 2050-04-09    Keyboard   81.91        11\n",
       "99 2050-04-10      Camera   61.14        13\n",
       "\n",
       "[100 rows x 4 columns]"
      ]
     },
     "execution_count": 4,
     "metadata": {},
     "output_type": "execute_result"
    }
   ],
   "source": [
    "df2 = pd.read_csv('random_sales.csv', parse_dates=['Date'], date_format='%Y-%m-%d')\n",
    "df2"
   ]
  },
  {
   "cell_type": "code",
   "execution_count": 5,
   "id": "6425e2fe-e276-488a-ad47-b0881c1ac6b4",
   "metadata": {},
   "outputs": [],
   "source": [
    "df.to_excel('random_sales.xlsx')"
   ]
  },
  {
   "cell_type": "code",
   "execution_count": 6,
   "id": "a7bc121b-6d9b-4050-a1db-ff0903a1d436",
   "metadata": {},
   "outputs": [],
   "source": [
    "df.to_json('random_sales.json')"
   ]
  },
  {
   "cell_type": "code",
   "execution_count": 7,
   "id": "0b7b62f7-c446-4175-9da0-14cc2c84a54e",
   "metadata": {},
   "outputs": [
    {
     "data": {
      "text/html": [
       "<div>\n",
       "<style scoped>\n",
       "    .dataframe tbody tr th:only-of-type {\n",
       "        vertical-align: middle;\n",
       "    }\n",
       "\n",
       "    .dataframe tbody tr th {\n",
       "        vertical-align: top;\n",
       "    }\n",
       "\n",
       "    .dataframe thead th {\n",
       "        text-align: right;\n",
       "    }\n",
       "</style>\n",
       "<table border=\"1\" class=\"dataframe\">\n",
       "  <thead>\n",
       "    <tr style=\"text-align: right;\">\n",
       "      <th></th>\n",
       "      <th>Date</th>\n",
       "      <th>Price</th>\n",
       "      <th>Quantity</th>\n",
       "    </tr>\n",
       "  </thead>\n",
       "  <tbody>\n",
       "    <tr>\n",
       "      <th>count</th>\n",
       "      <td>100</td>\n",
       "      <td>100.0</td>\n",
       "      <td>100.0</td>\n",
       "    </tr>\n",
       "    <tr>\n",
       "      <th>mean</th>\n",
       "      <td>2050-02-19 12:00:00</td>\n",
       "      <td>117.3</td>\n",
       "      <td>7.8</td>\n",
       "    </tr>\n",
       "    <tr>\n",
       "      <th>min</th>\n",
       "      <td>2050-01-01 00:00:00</td>\n",
       "      <td>51.4</td>\n",
       "      <td>1.0</td>\n",
       "    </tr>\n",
       "    <tr>\n",
       "      <th>25%</th>\n",
       "      <td>2050-01-25 18:00:00</td>\n",
       "      <td>81.1</td>\n",
       "      <td>5.0</td>\n",
       "    </tr>\n",
       "    <tr>\n",
       "      <th>50%</th>\n",
       "      <td>2050-02-19 12:00:00</td>\n",
       "      <td>114.1</td>\n",
       "      <td>8.0</td>\n",
       "    </tr>\n",
       "    <tr>\n",
       "      <th>75%</th>\n",
       "      <td>2050-03-16 06:00:00</td>\n",
       "      <td>161.2</td>\n",
       "      <td>11.2</td>\n",
       "    </tr>\n",
       "    <tr>\n",
       "      <th>max</th>\n",
       "      <td>2050-04-10 00:00:00</td>\n",
       "      <td>197.3</td>\n",
       "      <td>14.0</td>\n",
       "    </tr>\n",
       "    <tr>\n",
       "      <th>std</th>\n",
       "      <td>NaN</td>\n",
       "      <td>42.5</td>\n",
       "      <td>4.0</td>\n",
       "    </tr>\n",
       "  </tbody>\n",
       "</table>\n",
       "</div>"
      ],
      "text/plain": [
       "                      Date  Price  Quantity\n",
       "count                  100  100.0     100.0\n",
       "mean   2050-02-19 12:00:00  117.3       7.8\n",
       "min    2050-01-01 00:00:00   51.4       1.0\n",
       "25%    2050-01-25 18:00:00   81.1       5.0\n",
       "50%    2050-02-19 12:00:00  114.1       8.0\n",
       "75%    2050-03-16 06:00:00  161.2      11.2\n",
       "max    2050-04-10 00:00:00  197.3      14.0\n",
       "std                    NaN   42.5       4.0"
      ]
     },
     "execution_count": 7,
     "metadata": {},
     "output_type": "execute_result"
    }
   ],
   "source": [
    "df.describe().round(1)"
   ]
  },
  {
   "cell_type": "code",
   "execution_count": 8,
   "id": "2924966e-aef9-4d70-b230-c5b690dcaa1e",
   "metadata": {},
   "outputs": [
    {
     "data": {
      "text/plain": [
       "array([[Timestamp('2050-01-01 00:00:00'), 'Microphone', 147.16, 7],\n",
       "       [Timestamp('2050-01-02 00:00:00'), 'Keyboard', 103.09, 10],\n",
       "       [Timestamp('2050-01-03 00:00:00'), 'Tables', 164.48, 7],\n",
       "       [Timestamp('2050-01-04 00:00:00'), 'Camera', 103.48, 1],\n",
       "       [Timestamp('2050-01-05 00:00:00'), 'Microphone', 162.92, 1]],\n",
       "      dtype=object)"
      ]
     },
     "execution_count": 8,
     "metadata": {},
     "output_type": "execute_result"
    }
   ],
   "source": [
    "df.values[:5]"
   ]
  },
  {
   "cell_type": "code",
   "execution_count": 12,
   "id": "a93c546e-8e0b-4fa6-919d-045fb1dd40b4",
   "metadata": {},
   "outputs": [],
   "source": [
    "product_sales = df.groupby('Product')['Quantity'].sum()"
   ]
  },
  {
   "cell_type": "code",
   "execution_count": 20,
   "id": "f5c50678-62f6-4039-b360-35b49565e541",
   "metadata": {},
   "outputs": [],
   "source": [
    "average_product_sales = df.groupby('Product')['Price'].mean().round(2)"
   ]
  },
  {
   "cell_type": "code",
   "execution_count": 18,
   "id": "66430062-2d4d-4a37-9619-a06dc0932c79",
   "metadata": {},
   "outputs": [
    {
     "data": {
      "text/plain": [
       "<function matplotlib.pyplot.show(close=None, block=None)>"
      ]
     },
     "execution_count": 18,
     "metadata": {},
     "output_type": "execute_result"
    },
    {
     "data": {
      "image/png": "[encoded data removed]",
      "text/plain": [
       "<Figure size 640x480 with 1 Axes>"
      ]
     },
     "metadata": {},
     "output_type": "display_data"
    }
   ],
   "source": [
    "plt.bar(product_sales.index, product_sales.values, color=['red', 'green', 'blue'])\n",
    "plt.title('Total Sales per Product')\n",
    "plt.xlabel('Product')\n",
    "plt.ylabel('Total Sales')\n",
    "plt.show"
   ]
  },
  {
   "cell_type": "code",
   "execution_count": 22,
   "id": "25cb48d2-8b50-4357-955f-bcae31ea3dac",
   "metadata": {},
   "outputs": [
    {
     "data": {
      "text/plain": [
       "<function matplotlib.pyplot.show(close=None, block=None)>"
      ]
     },
     "execution_count": 22,
     "metadata": {},
     "output_type": "execute_result"
    },
    {
     "data": {
      "image/png": "[encoded data removed]",
      "text/plain": [
       "<Figure size 640x480 with 1 Axes>"
      ]
     },
     "metadata": {},
     "output_type": "display_data"
    }
   ],
   "source": [
    "plt.plot(average_product_sales.index, average_product_sales.values)\n",
    "plt.title('Average Price per Product')\n",
    "plt.xlabel('Product')\n",
    "plt.ylabel('Average Price')\n",
    "plt.show"
   ]
  },
  {
   "cell_type": "code",
   "execution_count": null,
   "id": "dc88a559-b95e-4708-af36-1d70efe8f479",
   "metadata": {},
   "outputs": [],
   "source": []
  }
 ],
 "metadata": {
  "kernelspec": {
   "display_name": "Python 3 (ipykernel)",
   "language": "python",
   "name": "python3"
  },
  "language_info": {
   "codemirror_mode": {
    "name": "ipython",
    "version": 3
   },
   "file_extension": ".py",
   "mimetype": "text/x-python",
   "name": "python",
   "nbconvert_exporter": "python",
   "pygments_lexer": "ipython3",
   "version": "3.10.12"
  }
 },
 "nbformat": 4,
 "nbformat_minor": 5
}
