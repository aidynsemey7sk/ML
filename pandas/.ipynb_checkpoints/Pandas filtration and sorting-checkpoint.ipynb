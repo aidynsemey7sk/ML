{
 "cells": [
  {
   "cell_type": "code",
   "execution_count": 3,
   "id": "1a246551-12a9-4662-a22a-9a52621223c4",
   "metadata": {},
   "outputs": [],
   "source": [
    "import pandas as pd"
   ]
  },
  {
   "cell_type": "code",
   "execution_count": null,
   "id": "48210174-ba94-4436-8374-964838fae3e9",
   "metadata": {},
   "outputs": [],
   "source": [
    "form_users = {\n",
    "    'User ID': [1, 2, 3, 4, 5],\n",
    "    'Username': ['bogdan_s', 'Aidyn', 'Saltanat', 'Zhangir', 'bob88'],\n",
    "    'Age': [18, 24, 20, 14, None],\n",
    "    'Joined Date': pd.to_datetime(['2020-12-15', '2022-01-05', '2034-02-20', '2000-06-15', '2023-11-29']),\n",
    "    'Total Post': [150, 200, 354, 500, 290],\n",
    "    'Reputation': [500, 2000, 1243, 453, 680]\n",
    "}\n",
    "\n",
    "df = pd.DataFrame(form_users)"
   ]
  }
 ],
 "metadata": {
  "kernelspec": {
   "display_name": "Python 3 (ipykernel)",
   "language": "python",
   "name": "python3"
  },
  "language_info": {
   "codemirror_mode": {
    "name": "ipython",
    "version": 3
   },
   "file_extension": ".py",
   "mimetype": "text/x-python",
   "name": "python",
   "nbconvert_exporter": "python",
   "pygments_lexer": "ipython3",
   "version": "3.10.12"
  }
 },
 "nbformat": 4,
 "nbformat_minor": 5
}
