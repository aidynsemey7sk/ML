{
 "cells": [
  {
   "cell_type": "code",
   "execution_count": 1,
   "id": "6ae811dc-f7bb-4c88-9a8a-224b7795a6ff",
   "metadata": {},
   "outputs": [],
   "source": [
    "import numpy as np"
   ]
  },
  {
   "cell_type": "markdown",
   "id": "335d3a8b-d6ea-4060-887f-f01572a3f6cc",
   "metadata": {
    "jp-MarkdownHeadingCollapsed": true
   },
   "source": [
    "# 1.Калькуляция в массивах"
   ]
  },
  {
   "cell_type": "code",
   "execution_count": 2,
   "id": "4034ac65-4299-4151-8f6a-6bfc25c2fd0b",
   "metadata": {},
   "outputs": [],
   "source": [
    "prices = np.array([19.99, 29.99, 14.99, 23.99, 9.99])"
   ]
  },
  {
   "cell_type": "code",
   "execution_count": 3,
   "id": "7bbad82b-ae4c-4a7e-960c-555924ba40ec",
   "metadata": {},
   "outputs": [],
   "source": [
    "quantites = np.array([10, 5, 8, 12, 3])"
   ]
  },
  {
   "cell_type": "markdown",
   "id": "4af92fbc-7cc6-4648-ab72-1fb7d1600deb",
   "metadata": {
    "jp-MarkdownHeadingCollapsed": true
   },
   "source": [
    "## a. Умножение в массивах"
   ]
  },
  {
   "cell_type": "code",
   "execution_count": 5,
   "id": "8e3d0432-91e3-442b-81c3-2fd1f5292084",
   "metadata": {},
   "outputs": [
    {
     "data": {
      "text/plain": [
       "array([199.9 , 149.95, 119.92, 287.88,  29.97])"
      ]
     },
     "execution_count": 5,
     "metadata": {},
     "output_type": "execute_result"
    }
   ],
   "source": [
    "revenue_per_product = prices * quantites\n",
    "revenue_per_product"
   ]
  },
  {
   "cell_type": "markdown",
   "id": "76be893c-8853-4407-a0cf-ea1de8bb2f74",
   "metadata": {},
   "source": [
    "## b. Подсчет суммы массива"
   ]
  },
  {
   "cell_type": "code",
   "execution_count": 7,
   "id": "cc3870a3-8f65-49a4-a393-e6a46346ee69",
   "metadata": {},
   "outputs": [
    {
     "data": {
      "text/plain": [
       "787.62"
      ]
     },
     "execution_count": 7,
     "metadata": {},
     "output_type": "execute_result"
    }
   ],
   "source": [
    "total_revenue = np.sum(revenue_per_product)\n",
    "total_revenue"
   ]
  },
  {
   "cell_type": "markdown",
   "id": "7827dfad-fdd8-4425-bc71-40193a10eb25",
   "metadata": {
    "jp-MarkdownHeadingCollapsed": true
   },
   "source": [
    "# 2. Анализ статистики блога"
   ]
  },
  {
   "cell_type": "code",
   "execution_count": 8,
   "id": "c029bd47-a150-4592-b3f4-d3340797d48b",
   "metadata": {},
   "outputs": [
    {
     "data": {
      "text/plain": [
       "array([1000,  300,  800,  200,  500])"
      ]
     },
     "execution_count": 8,
     "metadata": {},
     "output_type": "execute_result"
    }
   ],
   "source": [
    "views = np.array([1000, 300, 800, 200, 500])\n",
    "views"
   ]
  },
  {
   "cell_type": "markdown",
   "id": "f9b5e4ea-281b-43ef-ba82-8550b43cfd4b",
   "metadata": {
    "jp-MarkdownHeadingCollapsed": true
   },
   "source": [
    "## a. Максисальное значение"
   ]
  },
  {
   "cell_type": "code",
   "execution_count": 11,
   "id": "107ff242-31de-4490-9518-9fae91025f58",
   "metadata": {},
   "outputs": [
    {
     "data": {
      "text/plain": [
       "1000"
      ]
     },
     "execution_count": 11,
     "metadata": {},
     "output_type": "execute_result"
    }
   ],
   "source": [
    "max_views = np.max(views)\n",
    "max_views"
   ]
  },
  {
   "cell_type": "markdown",
   "id": "d1714108-9d8d-41ad-be35-507461511fbc",
   "metadata": {},
   "source": [
    "## b. Минимальное значение"
   ]
  },
  {
   "cell_type": "code",
   "execution_count": 12,
   "id": "c26b8cdf-cb23-4424-af92-5c5f18b9e602",
   "metadata": {},
   "outputs": [
    {
     "data": {
      "text/plain": [
       "200"
      ]
     },
     "execution_count": 12,
     "metadata": {},
     "output_type": "execute_result"
    }
   ],
   "source": [
    "min_views = np.min(views)\n",
    "min_views"
   ]
  },
  {
   "cell_type": "markdown",
   "id": "e434c65b-3b70-4998-bf19-5e99a1e4e2ca",
   "metadata": {
    "jp-MarkdownHeadingCollapsed": true
   },
   "source": [
    "# 3.Разделение заказа на партии"
   ]
  },
  {
   "cell_type": "code",
   "execution_count": 13,
   "id": "c4054646-86a7-4544-a05e-d2a93d26e9ce",
   "metadata": {},
   "outputs": [
    {
     "data": {
      "text/plain": [
       "array([1001, 1002, 1003, 1004, 1005, 1006, 1007, 1008, 1009])"
      ]
     },
     "execution_count": 13,
     "metadata": {},
     "output_type": "execute_result"
    }
   ],
   "source": [
    "order_ids = np.array([1001, 1002, 1003, 1004, 1005, 1006, 1007, 1008, 1009]) \n",
    "order_ids"
   ]
  },
  {
   "cell_type": "code",
   "execution_count": 14,
   "id": "914a7c83-e4d5-4fe0-9fd0-523090855138",
   "metadata": {},
   "outputs": [
    {
     "data": {
      "text/plain": [
       "[array([1001, 1002, 1003]),\n",
       " array([1004, 1005, 1006]),\n",
       " array([1007, 1008, 1009])]"
      ]
     },
     "execution_count": 14,
     "metadata": {},
     "output_type": "execute_result"
    }
   ],
   "source": [
    "batches = np.split(order_ids, 3)\n",
    "batches"
   ]
  },
  {
   "cell_type": "markdown",
   "id": "4972105a-257f-4b10-a216-77b2a0ec499d",
   "metadata": {
    "jp-MarkdownHeadingCollapsed": true
   },
   "source": [
    "# 4.Категоризация"
   ]
  },
  {
   "cell_type": "code",
   "execution_count": 19,
   "id": "b9150f15-633a-482f-98a5-1724cb2953a9",
   "metadata": {},
   "outputs": [
    {
     "data": {
      "text/plain": [
       "array([4.5, 4.2, 3.7, 2.8, 4.9, 3.3, 4.4, 2.1, 1.9])"
      ]
     },
     "execution_count": 19,
     "metadata": {},
     "output_type": "execute_result"
    }
   ],
   "source": [
    "ratings = np.array([4.5, 4.2, 3.7, 2.8, 4.9, 3.3, 4.4, 2.1, 1.9])\n",
    "ratings"
   ]
  },
  {
   "cell_type": "code",
   "execution_count": 20,
   "id": "90f62830-4939-4ad7-9b9e-4e9bd9694277",
   "metadata": {},
   "outputs": [
    {
     "data": {
      "text/plain": [
       "array([4.5, 4.2, 4.9, 4.4])"
      ]
     },
     "execution_count": 20,
     "metadata": {},
     "output_type": "execute_result"
    }
   ],
   "source": [
    "positive_ratings = ratings[ratings >=4.0]\n",
    "positive_ratings"
   ]
  },
  {
   "cell_type": "code",
   "execution_count": 21,
   "id": "3221cb50-290c-49ed-803a-95cfe7777d0f",
   "metadata": {},
   "outputs": [
    {
     "data": {
      "text/plain": [
       "array([3.7, 2.8, 3.3, 2.1, 1.9])"
      ]
     },
     "execution_count": 21,
     "metadata": {},
     "output_type": "execute_result"
    }
   ],
   "source": [
    "negative_ratings = ratings[ratings < 4.0]\n",
    "negative_ratings"
   ]
  },
  {
   "cell_type": "markdown",
   "id": "4c528e09-8de9-44ef-a124-d6a882946d1d",
   "metadata": {
    "jp-MarkdownHeadingCollapsed": true
   },
   "source": [
    "# 5.Калькуляция в двумерных массивах"
   ]
  },
  {
   "cell_type": "code",
   "execution_count": 24,
   "id": "73d607c8-6794-4b04-8801-0eb27e8b2091",
   "metadata": {},
   "outputs": [
    {
     "data": {
      "text/plain": [
       "array([[ 5,  3,  2,  7],\n",
       "       [10,  6,  3,  9]])"
      ]
     },
     "execution_count": 24,
     "metadata": {},
     "output_type": "execute_result"
    }
   ],
   "source": [
    "order_quantities = np.array([[5, 3, 2, 7],[10, 6, 3, 9]])\n",
    "order_quantities"
   ]
  },
  {
   "cell_type": "code",
   "execution_count": 26,
   "id": "e6d71505-da93-4263-b986-11107fa882ba",
   "metadata": {},
   "outputs": [
    {
     "data": {
      "text/plain": [
       "array([15,  9,  5, 16])"
      ]
     },
     "execution_count": 26,
     "metadata": {},
     "output_type": "execute_result"
    }
   ],
   "source": [
    "# Сложение по нулевой оси то есть вертикально\n",
    "total_quantities_sold = np.sum(order_quantities, axis=0)\n",
    "total_quantities_sold"
   ]
  },
  {
   "cell_type": "code",
   "execution_count": 27,
   "id": "48f7a6d1-c7d3-4567-b634-b9cf0e9cb4ae",
   "metadata": {},
   "outputs": [
    {
     "data": {
      "text/plain": [
       "array([17, 28])"
      ]
     },
     "execution_count": 27,
     "metadata": {},
     "output_type": "execute_result"
    }
   ],
   "source": [
    "\n",
    "total_quantities_per_order = np.sum(order_quantities, axis=1)\n",
    "total_quantities_per_order"
   ]
  },
  {
   "cell_type": "code",
   "execution_count": 28,
   "id": "7523a36f-ac23-4c0f-9c32-7ac2d083f630",
   "metadata": {},
   "outputs": [
    {
     "data": {
      "text/plain": [
       "array([7.5, 4.5, 2.5, 8. ])"
      ]
     },
     "execution_count": 28,
     "metadata": {},
     "output_type": "execute_result"
    }
   ],
   "source": [
    "average_quantities_sold = np.mean(order_quantities, axis=0)\n",
    "average_quantities_sold"
   ]
  },
  {
   "cell_type": "markdown",
   "id": "9224f83f-4bfd-4a73-a7c2-9ce37dd82b37",
   "metadata": {
    "jp-MarkdownHeadingCollapsed": true
   },
   "source": [
    "# 6. Средний рейтинг товара и максимальный рейтинг Категории (Двумерный массив)"
   ]
  },
  {
   "cell_type": "code",
   "execution_count": 12,
   "id": "80bb3541-2231-458e-ab46-d088dd0e7234",
   "metadata": {},
   "outputs": [
    {
     "name": "stdout",
     "output_type": "stream",
     "text": [
      "(3, 4)\n"
     ]
    },
    {
     "data": {
      "text/plain": [
       "array([[4.5, 5.1, 2.5, 3.8],\n",
       "       [2.9, 4.8, 4.7, 3.2],\n",
       "       [2. , 3.9, 0.5, 4.9]])"
      ]
     },
     "execution_count": 12,
     "metadata": {},
     "output_type": "execute_result"
    }
   ],
   "source": [
    "product_rating = np.array([\n",
    "    [4.5, 5.1, 2.5, 3.8],\n",
    "    [2.9, 4.8, 4.7, 3.2],\n",
    "    [2.0, 3.9, 0.5, 4.9]\n",
    "])\n",
    "print(np.shape(product_rating))\n",
    "product_rating"
   ]
  },
  {
   "cell_type": "code",
   "execution_count": 13,
   "id": "b442a6f7-cf2c-4e22-a8cb-76c9ad0265f9",
   "metadata": {},
   "outputs": [
    {
     "data": {
      "text/plain": [
       "array([3.975, 3.9  , 2.825])"
      ]
     },
     "execution_count": 13,
     "metadata": {},
     "output_type": "execute_result"
    }
   ],
   "source": [
    "average_rating_per_category = np.mean(product_rating, axis=1)\n",
    "average_rating_per_category"
   ]
  },
  {
   "cell_type": "code",
   "execution_count": 14,
   "id": "185ca48f-9099-4ba4-afc1-2c3714aa87bf",
   "metadata": {},
   "outputs": [
    {
     "data": {
      "text/plain": [
       "array([3.13333333, 4.6       , 2.56666667, 3.96666667])"
      ]
     },
     "execution_count": 14,
     "metadata": {},
     "output_type": "execute_result"
    }
   ],
   "source": [
    "average_rating_per_category = np.mean(product_rating, axis=0)\n",
    "average_rating_per_category"
   ]
  },
  {
   "cell_type": "code",
   "execution_count": 15,
   "id": "b966deb6-a68c-41a6-a154-37dde8b59b84",
   "metadata": {},
   "outputs": [
    {
     "data": {
      "text/plain": [
       "array([4.5, 5.1, 4.7, 4.9])"
      ]
     },
     "execution_count": 15,
     "metadata": {},
     "output_type": "execute_result"
    }
   ],
   "source": [
    "average_rating_per_category = np.max(product_rating, axis=0)\n",
    "average_rating_per_category"
   ]
  },
  {
   "cell_type": "markdown",
   "id": "2ccdc2b9-fda8-43d6-84c5-c6332aae1df5",
   "metadata": {},
   "source": [
    "# 7. Калькуляция и генерация в трехмерном массиве"
   ]
  },
  {
   "cell_type": "code",
   "execution_count": 16,
   "id": "472b5b64-fb09-4ad8-adc4-d0ab15d43d12",
   "metadata": {},
   "outputs": [],
   "source": [
    "companies = ['Google', 'Microsoft', 'Apple']\n",
    "days = ['Mon 1 April', 'Tue 2 April'] \n",
    "price_types = ['Open', 'Close', 'High', 'Low']"
   ]
  },
  {
   "cell_type": "code",
   "execution_count": 23,
   "id": "33ce3a48-4fe5-47e8-9c56-09f93d597c6b",
   "metadata": {},
   "outputs": [
    {
     "data": {
      "text/plain": [
       "array([[[0.417, 0.72 , 0.   , 0.302],\n",
       "        [0.147, 0.092, 0.186, 0.346]],\n",
       "\n",
       "       [[0.397, 0.539, 0.419, 0.685],\n",
       "        [0.204, 0.878, 0.027, 0.67 ]],\n",
       "\n",
       "       [[0.417, 0.559, 0.14 , 0.198],\n",
       "        [0.801, 0.968, 0.313, 0.692]]])"
      ]
     },
     "execution_count": 23,
     "metadata": {},
     "output_type": "execute_result"
    }
   ],
   "source": [
    "np.random.seed(1)\n",
    "stock_prices = np.round(np.random.random((len(companies), len(days), len(price_types))), 3)\n",
    "stock_prices"
   ]
  },
  {
   "cell_type": "code",
   "execution_count": 24,
   "id": "ffc84f09-12d9-4870-b5d6-572cbd6c628e",
   "metadata": {},
   "outputs": [
    {
     "data": {
      "text/plain": [
       "(3, 2, 4)"
      ]
     },
     "execution_count": 24,
     "metadata": {},
     "output_type": "execute_result"
    }
   ],
   "source": [
    "stock_prices.shape"
   ]
  },
  {
   "cell_type": "code",
   "execution_count": 31,
   "id": "a187db69-59ba-4f22-9c58-d830ee1f87e5",
   "metadata": {},
   "outputs": [
    {
     "name": "stdout",
     "output_type": "stream",
     "text": [
      "Stock prices for the Google: \n",
      "Day: Mon 1 April \n",
      " Open Price: 0.417 \n",
      " Close Price: 0.72 \n",
      " High Price: 0.0 \n",
      " Low Price: 0.302 \n",
      "\n",
      "Day: Tue 2 April \n",
      " Open Price: 0.147 \n",
      " Close Price: 0.092 \n",
      " High Price: 0.186 \n",
      " Low Price: 0.346 \n",
      "\n",
      "\n",
      "Stock prices for the Microsoft: \n",
      "Day: Mon 1 April \n",
      " Open Price: 0.397 \n",
      " Close Price: 0.539 \n",
      " High Price: 0.419 \n",
      " Low Price: 0.685 \n",
      "\n",
      "Day: Tue 2 April \n",
      " Open Price: 0.204 \n",
      " Close Price: 0.878 \n",
      " High Price: 0.027 \n",
      " Low Price: 0.67 \n",
      "\n",
      "\n",
      "Stock prices for the Apple: \n",
      "Day: Mon 1 April \n",
      " Open Price: 0.417 \n",
      " Close Price: 0.559 \n",
      " High Price: 0.14 \n",
      " Low Price: 0.198 \n",
      "\n",
      "Day: Tue 2 April \n",
      " Open Price: 0.801 \n",
      " Close Price: 0.968 \n",
      " High Price: 0.313 \n",
      " Low Price: 0.692 \n",
      "\n",
      "\n"
     ]
    }
   ],
   "source": [
    "for index_axis_0, company in enumerate(companies):\n",
    "    print(f'Stock prices for the {company}: ')\n",
    "    for index_axis_1, day in enumerate(days):\n",
    "        print(f'Day: {day} ')\n",
    "        for index_axis_2, price_type in enumerate(price_types):\n",
    "            print(f' {price_type} Price: {stock_prices[index_axis_0,index_axis_1,index_axis_2]} ')\n",
    "        print('')\n",
    "    print('')"
   ]
  },
  {
   "cell_type": "code",
   "execution_count": null,
   "id": "8ee82b0f-1e9a-4880-b22f-b81cbf1cf605",
   "metadata": {},
   "outputs": [],
   "source": []
  }
 ],
 "metadata": {
  "kernelspec": {
   "display_name": "Python 3 (ipykernel)",
   "language": "python",
   "name": "python3"
  },
  "language_info": {
   "codemirror_mode": {
    "name": "ipython",
    "version": 3
   },
   "file_extension": ".py",
   "mimetype": "text/x-python",
   "name": "python",
   "nbconvert_exporter": "python",
   "pygments_lexer": "ipython3",
   "version": "3.10.12"
  }
 },
 "nbformat": 4,
 "nbformat_minor": 5
}
