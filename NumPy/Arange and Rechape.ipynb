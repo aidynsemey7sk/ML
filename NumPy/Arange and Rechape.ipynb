{
 "cells": [
  {
   "cell_type": "code",
   "execution_count": 6,
   "id": "8a8be651-9377-4f63-9682-591a9286cdae",
   "metadata": {},
   "outputs": [],
   "source": [
    "import numpy as np"
   ]
  },
  {
   "cell_type": "code",
   "execution_count": 2,
   "id": "c3f1ed61-3269-4bfa-85e2-b69745403780",
   "metadata": {},
   "outputs": [
    {
     "data": {
      "text/plain": [
       "array([0, 1, 2, 3, 4, 5, 6, 7, 8, 9])"
      ]
     },
     "execution_count": 2,
     "metadata": {},
     "output_type": "execute_result"
    }
   ],
   "source": [
    "np.arange(10)"
   ]
  },
  {
   "cell_type": "code",
   "execution_count": 3,
   "id": "8e3b7b98-e6fa-4408-b2d6-0c499d7672cc",
   "metadata": {},
   "outputs": [
    {
     "data": {
      "text/plain": [
       "array([10, 11, 12, 13, 14, 15, 16, 17, 18, 19, 20, 21, 22, 23])"
      ]
     },
     "execution_count": 3,
     "metadata": {},
     "output_type": "execute_result"
    }
   ],
   "source": [
    "np.arange(10, 24)"
   ]
  },
  {
   "cell_type": "code",
   "execution_count": 4,
   "id": "56a1d458-10d5-416d-b1d4-5e94961e8ec2",
   "metadata": {},
   "outputs": [
    {
     "data": {
      "text/plain": [
       "array([10, 12, 14, 16, 18, 20, 22])"
      ]
     },
     "execution_count": 4,
     "metadata": {},
     "output_type": "execute_result"
    }
   ],
   "source": [
    "np.arange(10, 24, 2)"
   ]
  },
  {
   "cell_type": "code",
   "execution_count": 8,
   "id": "b3592d2d-a3b8-4c55-8402-97783cbd784e",
   "metadata": {},
   "outputs": [
    {
     "data": {
      "text/plain": [
       "array([[ 0,  1,  2,  3,  4,  5,  6,  7,  8,  9],\n",
       "       [10, 11, 12, 13, 14, 15, 16, 17, 18, 19]])"
      ]
     },
     "execution_count": 8,
     "metadata": {},
     "output_type": "execute_result"
    }
   ],
   "source": [
    "# reshape разбивает одномерный массив в двухмерный\n",
    "np.arange(20).reshape([2, 10])"
   ]
  },
  {
   "cell_type": "code",
   "execution_count": 9,
   "id": "d1966f5e-8d5d-4b51-919d-7f6d11b53ec3",
   "metadata": {},
   "outputs": [
    {
     "data": {
      "text/plain": [
       "array([[[62, 65, 71],\n",
       "        [50, 53, 77],\n",
       "        [53, 57, 59]],\n",
       "\n",
       "       [[69, 71, 68],\n",
       "        [54, 73, 56],\n",
       "        [74, 74, 62]],\n",
       "\n",
       "       [[76, 51, 56],\n",
       "        [57, 73, 64],\n",
       "        [74, 67, 55]],\n",
       "\n",
       "       [[75, 63, 58],\n",
       "        [59, 70, 69],\n",
       "        [66, 69, 55]]])"
      ]
     },
     "execution_count": 9,
     "metadata": {},
     "output_type": "execute_result"
    }
   ],
   "source": [
    "np.random.seed(0)\n",
    "np.random.randint(50, 80, (4, 3, 3))"
   ]
  },
  {
   "cell_type": "code",
   "execution_count": 11,
   "id": "eb224ac8-a6d2-46fe-92b4-0af3ea4c03b6",
   "metadata": {},
   "outputs": [
    {
     "data": {
      "text/plain": [
       "array([62, 65, 71, 50, 53, 77, 53, 57, 59, 69, 71, 68, 54, 73, 56, 74, 74,\n",
       "       62, 76, 51, 56, 57, 73, 64, 74, 67, 55, 75, 63, 58, 59, 70, 69, 66,\n",
       "       69, 55])"
      ]
     },
     "execution_count": 11,
     "metadata": {},
     "output_type": "execute_result"
    }
   ],
   "source": [
    "np.random.seed(0)\n",
    "np.random.randint(50, 80, (4, 3, 3)).flatten()"
   ]
  },
  {
   "cell_type": "code",
   "execution_count": null,
   "id": "0272a048-9d17-47b5-a494-4f25e22901dd",
   "metadata": {},
   "outputs": [],
   "source": []
  }
 ],
 "metadata": {
  "kernelspec": {
   "display_name": "Python 3 (ipykernel)",
   "language": "python",
   "name": "python3"
  },
  "language_info": {
   "codemirror_mode": {
    "name": "ipython",
    "version": 3
   },
   "file_extension": ".py",
   "mimetype": "text/x-python",
   "name": "python",
   "nbconvert_exporter": "python",
   "pygments_lexer": "ipython3",
   "version": "3.10.12"
  }
 },
 "nbformat": 4,
 "nbformat_minor": 5
}
