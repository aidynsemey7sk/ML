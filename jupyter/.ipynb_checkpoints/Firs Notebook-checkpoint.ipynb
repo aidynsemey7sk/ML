{
 "cells": [
  {
   "cell_type": "markdown",
   "id": "671cbafd-7b6d-4a71-adca-546aa7e59035",
   "metadata": {},
   "source": [
    "# Firs Project"
   ]
  },
  {
   "cell_type": "markdown",
   "id": "06c98c16-49ab-4dfe-92c4-30343c8b1b7d",
   "metadata": {
    "jp-MarkdownHeadingCollapsed": true
   },
   "source": [
    "## First section"
   ]
  },
  {
   "cell_type": "code",
   "execution_count": 2,
   "id": "d1ea25d4-1d94-44b9-9681-72a580b92368",
   "metadata": {},
   "outputs": [
    {
     "data": {
      "text/plain": [
       "123"
      ]
     },
     "execution_count": 2,
     "metadata": {},
     "output_type": "execute_result"
    }
   ],
   "source": [
    "a = 123\n",
    "a"
   ]
  },
  {
   "cell_type": "markdown",
   "id": "9c55bcf5-0026-4b42-b4cc-243ff3101e8f",
   "metadata": {},
   "source": [
    "## Second section"
   ]
  },
  {
   "cell_type": "code",
   "execution_count": null,
   "id": "cdc6a43a-7c61-4812-bcd0-f2404ae48121",
   "metadata": {},
   "outputs": [],
   "source": []
  },
  {
   "cell_type": "code",
   "execution_count": null,
   "id": "7789dee0-b0e2-4976-8f5d-a8c3e6e15fce",
   "metadata": {},
   "outputs": [],
   "source": []
  },
  {
   "cell_type": "code",
   "execution_count": null,
   "id": "4cf35af0-690e-492d-ac74-e633939e9681",
   "metadata": {},
   "outputs": [],
   "source": []
  },
  {
   "cell_type": "code",
   "execution_count": null,
   "id": "7a4b23d4-cd30-44f1-a125-c348a02f39e9",
   "metadata": {},
   "outputs": [],
   "source": []
  },
  {
   "cell_type": "code",
   "execution_count": null,
   "id": "81004873-f1ae-4283-850d-ada354067018",
   "metadata": {},
   "outputs": [],
   "source": []
  }
 ],
 "metadata": {
  "kernelspec": {
   "display_name": "Python 3 (ipykernel)",
   "language": "python",
   "name": "python3"
  },
  "language_info": {
   "codemirror_mode": {
    "name": "ipython",
    "version": 3
   },
   "file_extension": ".py",
   "mimetype": "text/x-python",
   "name": "python",
   "nbconvert_exporter": "python",
   "pygments_lexer": "ipython3",
   "version": "3.10.12"
  }
 },
 "nbformat": 4,
 "nbformat_minor": 5
}
